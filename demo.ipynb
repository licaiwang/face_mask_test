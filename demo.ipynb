{
 "cells": [
  {
   "cell_type": "code",
   "execution_count": 1,
   "metadata": {},
   "outputs": [
    {
     "name": "stderr",
     "output_type": "stream",
     "text": [
      "Using TensorFlow backend.\n"
     ]
    },
    {
     "name": "stdout",
     "output_type": "stream",
     "text": [
      "1 Physical GPUs, 1 Logical GPUs\n"
     ]
    }
   ],
   "source": [
    "import cv2\n",
    "import time\n",
    "import argparse\n",
    "import numpy as np\n",
    "from PIL import Image\n",
    "from keras.models import model_from_json\n",
    "from utils.anchor_generator import generate_anchors\n",
    "from utils.anchor_decode import decode_bbox\n",
    "from utils.nms import single_class_non_max_suppression\n",
    "from load_model.keras_loader import load_keras_model, keras_inference\n",
    "from IPython.display import display\n",
    "import xml.etree.ElementTree as ET\n",
    "from os import walk"
   ]
  },
  {
   "cell_type": "markdown",
   "metadata": {},
   "source": [
    "# 有戴口罩 1 沒帶 0"
   ]
  },
  {
   "cell_type": "code",
   "execution_count": 2,
   "metadata": {},
   "outputs": [],
   "source": [
    "ROOT_IMAGE_PATH = 'test_image/'\n",
    "ROOT_XML_PATH = 'annotation/'"
   ]
  },
  {
   "cell_type": "code",
   "execution_count": 3,
   "metadata": {},
   "outputs": [],
   "source": [
    "def remove_miss_pic():\n",
    "    # Remove miss pic\n",
    "    img = [i.replace('.jpg','') for i in next(walk(ROOT_IMAGE_PATH))[2]]\n",
    "    xml = [i.replace('.xml','') for i in next(walk(ROOT_XML_PATH))[2]]\n",
    "    for i in  img:\n",
    "        if i not in xml:\n",
    "            os.remove(ROOT_IMAGE_PATH+i+'.jpg')"
   ]
  },
  {
   "cell_type": "code",
   "execution_count": 5,
   "metadata": {},
   "outputs": [],
   "source": [
    "def init_answer() -> (list,list):\n",
    "    # init label and it's filename\n",
    "    ans,filename = [],[]\n",
    "    for xml in next(walk(ROOT_XML_PATH))[2]:\n",
    "        tree = ET.parse(ROOT_XML_PATH + xml)\n",
    "        root = tree.getroot()\n",
    "        temp = []\n",
    "        for objects in root.findall('object'):\n",
    "            if objects.find('name').text == 'face':\n",
    "                temp.append(0)\n",
    "            else:\n",
    "                temp.append(1)\n",
    "        filename.append(root.find('filename').text.replace('.jpg','').replace('.xml',''))\n",
    "        ans.append(temp)\n",
    "    return ans,filename"
   ]
  },
  {
   "cell_type": "code",
   "execution_count": 6,
   "metadata": {},
   "outputs": [],
   "source": [
    "ANS , filename = init_answer()"
   ]
  },
  {
   "cell_type": "code",
   "execution_count": 7,
   "metadata": {},
   "outputs": [
    {
     "data": {
      "text/plain": [
       "[[1, 1, 1], [1], [0, 1], [1], [1], [1], [1], [1, 0], [1], [1]]"
      ]
     },
     "execution_count": 7,
     "metadata": {},
     "output_type": "execute_result"
    }
   ],
   "source": [
    "ANS[:10]"
   ]
  },
  {
   "cell_type": "code",
   "execution_count": 8,
   "metadata": {},
   "outputs": [
    {
     "data": {
      "text/plain": [
       "['test_00000006',\n",
       " 'test_00000007',\n",
       " 'test_00000008',\n",
       " 'test_00000009',\n",
       " 'test_00000010',\n",
       " 'test_00000012',\n",
       " 'test_00000013',\n",
       " 'test_00000014',\n",
       " 'test_00000015',\n",
       " 'test_00000016']"
      ]
     },
     "execution_count": 8,
     "metadata": {},
     "output_type": "execute_result"
    }
   ],
   "source": [
    "filename[:10]"
   ]
  },
  {
   "cell_type": "code",
   "execution_count": 9,
   "metadata": {},
   "outputs": [],
   "source": [
    "model = load_keras_model(\"models/face_mask_detection.json\", \"models/face_mask_detection.hdf5\")\n",
    "# anchor configuration\n",
    "feature_map_sizes = [[33, 33], [17, 17], [9, 9], [5, 5], [3, 3]]\n",
    "anchor_sizes = [[0.04, 0.056], [0.08, 0.11], [0.16, 0.22], [0.32, 0.45], [0.64, 0.72]]\n",
    "anchor_ratios = [[1, 0.62, 0.42]] * 5\n",
    "# generate anchors\n",
    "anchors = generate_anchors(feature_map_sizes, anchor_sizes, anchor_ratios)\n",
    "# for inference , the batch size is 1, the model output shape is [1, N, 4],\n",
    "# so we expand dim for anchors to [1, anchor_num, 4]\n",
    "anchors_exp = np.expand_dims(anchors, axis=0)\n",
    "id2class = {0: \"Mask\", 1: \"NoMask\"}"
   ]
  },
  {
   "cell_type": "code",
   "execution_count": 10,
   "metadata": {},
   "outputs": [],
   "source": [
    "def inference(image,conf_thresh=0.5,iou_thresh=0.4,target_shape=(160, 160),draw_result=True,show_result=True)->list:\n",
    "    output_info = []\n",
    "    height, width, _ = image.shape\n",
    "    image_resized = cv2.resize(image, target_shape)\n",
    "    image_np = image_resized / 255.0  # 歸一化到 0 ~ 1\n",
    "    image_exp = np.expand_dims(image_np, axis=0)\n",
    "    y_bboxes_output, y_cls_output = keras_inference(model, image_exp)\n",
    "    # remove the batch dimension, for batch is always 1 for inference.\n",
    "    y_bboxes = decode_bbox(anchors_exp, y_bboxes_output)[0]\n",
    "    y_cls = y_cls_output[0]\n",
    "    # To speed up, do single class NMS, not multiple classes NMS.\n",
    "    bbox_max_scores = np.max(y_cls, axis=1)\n",
    "    bbox_max_score_classes = np.argmax(y_cls, axis=1)\n",
    "    # keep_idx is the alive bounding box after nms.\n",
    "    keep_idxs = single_class_non_max_suppression(y_bboxes, bbox_max_scores, conf_thresh=conf_thresh, iou_thresh=iou_thresh)\n",
    "    for idx in keep_idxs:\n",
    "        conf = float(bbox_max_scores[idx])\n",
    "        class_id = bbox_max_score_classes[idx]\n",
    "        bbox = y_bboxes[idx]\n",
    "        # clip the coordinate, avoid the value exceed the image boundary.\n",
    "        xmin = max(0, int(bbox[0] * width))\n",
    "        ymin = max(0, int(bbox[1] * height))\n",
    "        xmax = min(int(bbox[2] * width), width)\n",
    "        ymax = min(int(bbox[3] * height), height)\n",
    "        if draw_result:\n",
    "            if class_id == 0:\n",
    "                color = (0, 255, 0)\n",
    "            else:\n",
    "                color = (255, 0, 0)\n",
    "            cv2.rectangle(image, (xmin, ymin), (xmax, ymax), color, 2)\n",
    "            cv2.putText(image,f\"{id2class[class_id]}: {np.round(conf,3)}\",(xmin + 2, ymin - 2),cv2.FONT_HERSHEY_SIMPLEX,0.8,color,)\n",
    "        output_info.append([class_id, conf, xmin, ymin, xmax, ymax])\n",
    "    if show_result:\n",
    "        display(Image.fromarray(image))\n",
    "        pass\n",
    "    return output_info"
   ]
  },
  {
   "cell_type": "code",
   "execution_count": 11,
   "metadata": {},
   "outputs": [],
   "source": [
    "def show(path,show_result = False) ->list:\n",
    "    img = cv2.imread(path)\n",
    "    img = cv2.cvtColor(img, cv2.COLOR_BGR2RGB)\n",
    "    return inference(img, show_result=show_result , target_shape=(260, 260))"
   ]
  },
  {
   "cell_type": "code",
   "execution_count": 12,
   "metadata": {},
   "outputs": [
    {
     "data": {
      "image/png": "[encoded data removed]",
      "text/plain": [
       "<PIL.Image.Image image mode=RGB size=180x180 at 0x274C1345408>"
      ]
     },
     "metadata": {},
     "output_type": "display_data"
    },
    {
     "data": {
      "text/plain": [
       "[[0, 0.9999232292175293, 60, 0, 141, 94]]"
      ]
     },
     "execution_count": 12,
     "metadata": {},
     "output_type": "execute_result"
    }
   ],
   "source": [
    "show(ROOT_IMAGE_PATH+'test_00000009.jpg', show_result = True)"
   ]
  },
  {
   "cell_type": "code",
   "execution_count": 13,
   "metadata": {
    "scrolled": true
   },
   "outputs": [
    {
     "name": "stdout",
     "output_type": "stream",
     "text": [
      "Processing ... 0\n",
      "Processing ... 100\n",
      "Processing ... 200\n",
      "Processing ... 300\n",
      "Processing ... 400\n",
      "Processing ... 500\n",
      "Processing ... 600\n",
      "Processing ... 700\n",
      "Processing ... 800\n",
      "Processing ... 900\n",
      "Processing ... 1000\n",
      "Processing ... 1100\n",
      "Processing ... 1200\n",
      "Processing ... 1300\n",
      "Processing ... 1400\n",
      "Processing ... 1500\n",
      "Processing ... 1600\n",
      "Processing ... 1700\n",
      "Processing ... 1800\n",
      "Processing ... 1900\n",
      "Processing ... 2000\n",
      "Processing ... 2100\n",
      "Processing ... 2200\n",
      "Processing ... 2300\n",
      "Processing ... 2400\n",
      "Processing ... 2500\n",
      "Processing ... 2600\n",
      "Processing ... 2700\n",
      "Processing ... 2800\n",
      "Processing ... 2900\n",
      "Processing ... 3000\n",
      "Processing ... 3100\n",
      "Processing ... 3200\n",
      "Processing ... 3300\n",
      "Processing ... 3400\n",
      "Processing ... 3500\n",
      "Processing ... 3600\n",
      "Processing ... 3700\n"
     ]
    },
    {
     "data": {
      "text/plain": [
       "3722"
      ]
     },
     "execution_count": 13,
     "metadata": {},
     "output_type": "execute_result"
    }
   ],
   "source": [
    "All_result = []\n",
    "for i,pic in enumerate(next(walk(ROOT_IMAGE_PATH))[2]):\n",
    "    temp_res = []\n",
    "    for res in show(ROOT_IMAGE_PATH+pic):\n",
    "        temp_res.append(res[0])\n",
    "    All_result.append(temp_res)\n",
    "    if i%100 == 0:\n",
    "        print(f\"Processing ... {i}\")\n",
    "len(All_result)"
   ]
  },
  {
   "cell_type": "markdown",
   "metadata": {},
   "source": [
    "## Label\n",
    "### Postive - 有戴口罩 1\n",
    "### Negtive - 沒戴口罩 0\n",
    "\n",
    "## Pred\n",
    "### Postive - 有戴口罩 0\n",
    "### Negtive - 沒戴口罩 1"
   ]
  },
  {
   "cell_type": "code",
   "execution_count": 14,
   "metadata": {},
   "outputs": [
    {
     "name": "stdout",
     "output_type": "stream",
     "text": [
      "Num of Pictures that Have Errors：117\n",
      "Num of Pictures that Predict Right：3605\n",
      "Num of Pictures Prediction ACC ：0.969％\n",
      "\n",
      "\n",
      "Num of One Person Pictures：3056\n",
      "Num of One Person and Prediction Right ：2984\n",
      "One Person Prediction ACC ：0.976％\n"
     ]
    }
   ],
   "source": [
    "FN = 0\n",
    "FP = 0\n",
    "TP = 0\n",
    "TN = 0\n",
    "\n",
    "error_pred = []\n",
    "right_ans = []\n",
    "right_ans_one_p = []\n",
    "one_p = []\n",
    "\n",
    "for i,pred in enumerate(All_result): \n",
    "    '''\n",
    "    預測人數已和 label 全部一樣\n",
    "    '''\n",
    "    # transfer prediction 0 -> 1 , 1 -> 0\n",
    "    pred = [1 - j for j in pred]\n",
    "    p_mask = sum(pred)\n",
    "    p_unmask = len(pred) - p_mask\n",
    "    r_mask = sum(ANS[i])\n",
    "    r_unmask = len(ANS[i]) - r_mask\n",
    "        \n",
    "    if len(ANS[i]) == len(pred) and len(ANS[i]) == 1:\n",
    "        one_p.append(filename[i])\n",
    "        \n",
    "    if p_mask == r_mask:\n",
    "        TP += r_mask\n",
    "        TN += r_unmask  \n",
    "        right_ans.append(filename[i])\n",
    "        if len(ANS[i]) == 1:\n",
    "            right_ans_one_p.append(filename[i])\n",
    "        \n",
    "    if p_mask > r_mask:\n",
    "        FP += p_mask - r_mask\n",
    "        TP += r_mask\n",
    "        TN += p_unmask\n",
    "        error_pred.append(filename[i])\n",
    "            \n",
    "    if p_mask < r_mask:\n",
    "        FN += r_mask - p_mask\n",
    "        TP += p_mask\n",
    "        TN += r_unmask\n",
    "        error_pred.append(filename[i])\n",
    "        \n",
    "print(f'Num of Pictures that Have Errors：{len(error_pred)}')\n",
    "print(f'Num of Pictures that Predict Right：{len(right_ans)}')\n",
    "print(f'Num of Pictures Prediction ACC ：{np.round(len(right_ans)/(len(right_ans)+len(error_pred)) ,3)}％')\n",
    "\n",
    "print('\\n')\n",
    "print(f'Num of One Person Pictures：{len(one_p)}')\n",
    "print(f'Num of One Person and Prediction Right ：{len(right_ans_one_p)}')\n",
    "print(f'One Person Prediction ACC ：{np.round(len(right_ans_one_p)/len(one_p),3)}％')"
   ]
  },
  {
   "cell_type": "code",
   "execution_count": 15,
   "metadata": {},
   "outputs": [
    {
     "data": {
      "text/plain": [
       "3373"
      ]
     },
     "execution_count": 15,
     "metadata": {},
     "output_type": "execute_result"
    }
   ],
   "source": [
    "TP"
   ]
  },
  {
   "cell_type": "code",
   "execution_count": 16,
   "metadata": {},
   "outputs": [
    {
     "data": {
      "text/plain": [
       "1207"
      ]
     },
     "execution_count": 16,
     "metadata": {},
     "output_type": "execute_result"
    }
   ],
   "source": [
    "TN"
   ]
  },
  {
   "cell_type": "code",
   "execution_count": 17,
   "metadata": {},
   "outputs": [
    {
     "data": {
      "text/plain": [
       "32"
      ]
     },
     "execution_count": 17,
     "metadata": {},
     "output_type": "execute_result"
    }
   ],
   "source": [
    "FP"
   ]
  },
  {
   "cell_type": "code",
   "execution_count": 18,
   "metadata": {},
   "outputs": [
    {
     "data": {
      "text/plain": [
       "91"
      ]
     },
     "execution_count": 18,
     "metadata": {},
     "output_type": "execute_result"
    }
   ],
   "source": [
    "FN"
   ]
  },
  {
   "cell_type": "code",
   "execution_count": 19,
   "metadata": {},
   "outputs": [
    {
     "data": {
      "text/plain": [
       "0.973729792147806"
      ]
     },
     "execution_count": 19,
     "metadata": {},
     "output_type": "execute_result"
    }
   ],
   "source": [
    "# TPR\n",
    "TP/(TP+FN)"
   ]
  },
  {
   "cell_type": "code",
   "execution_count": 20,
   "metadata": {},
   "outputs": [
    {
     "data": {
      "text/plain": [
       "0.9741727199354318"
      ]
     },
     "execution_count": 20,
     "metadata": {},
     "output_type": "execute_result"
    }
   ],
   "source": [
    "# TNR\n",
    "TN/(TN+FP)"
   ]
  }
 ],
 "metadata": {
  "kernelspec": {
   "display_name": "Python 3",
   "language": "python",
   "name": "python3"
  },
  "language_info": {
   "codemirror_mode": {
    "name": "ipython",
    "version": 3
   },
   "file_extension": ".py",
   "mimetype": "text/x-python",
   "name": "python",
   "nbconvert_exporter": "python",
   "pygments_lexer": "ipython3",
   "version": "3.7.9"
  }
 },
 "nbformat": 4,
 "nbformat_minor": 4
}
